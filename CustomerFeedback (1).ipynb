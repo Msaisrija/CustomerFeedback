{
 "cells": [
  {
   "cell_type": "code",
   "execution_count": 9,
   "id": "98afbef8-19c0-4395-8bab-18a6b9278b9d",
   "metadata": {},
   "outputs": [
    {
     "name": "stdout",
     "output_type": "stream",
     "text": [
      "\n",
      "--- Customer Feedback Summary Report ---\n",
      "Total Feedbacks: 8\n",
      "Positive Feedbacks: 7 (87.50%)\n",
      "Negative Feedbacks: 1 (12.50%)\n",
      "Neutral Feedbacks: 0 (0.00%)\n",
      "------------------------------------------\n"
     ]
    }
   ],
   "source": [
    "import os\n",
    "from textblob import TextBlob\n",
    "import csv\n",
    "\n",
    "# Function to read customer feedback from a file\n",
    "def read_feedback(file_path):\n",
    "    feedbacks = []\n",
    "    if not os.path.exists(file_path):\n",
    "        print(f\"No feedback file found at {file_path}.\")\n",
    "        return feedbacks\n",
    "    \n",
    "    with open(file_path, 'r', encoding='utf-8') as file:\n",
    "        reader = csv.reader(file)\n",
    "        for row in reader:\n",
    "            if row:  # Skip empty rows\n",
    "                feedbacks.append(row[0])  # Assuming feedback is in the first column\n",
    "    return feedbacks\n",
    "\n",
    "# Function to analyze sentiment of feedback\n",
    "def analyze_sentiment(feedbacks):\n",
    "    positive, negative, neutral = 0, 0, 0\n",
    "    for feedback in feedbacks:\n",
    "        analysis = TextBlob(feedback)\n",
    "        # Classify sentiment based on polarity\n",
    "        if analysis.sentiment.polarity > 0:\n",
    "            positive += 1\n",
    "        elif analysis.sentiment.polarity < 0:\n",
    "            negative += 1\n",
    "        else:\n",
    "            neutral += 1\n",
    "    return positive, negative, neutral\n",
    "\n",
    "# Function to generate summary report\n",
    "def generate_report(positive, negative, neutral, total):\n",
    "    print(\"\\n--- Customer Feedback Summary Report ---\")\n",
    "    print(f\"Total Feedbacks: {total}\")\n",
    "    print(f\"Positive Feedbacks: {positive} ({(positive / total) * 100:.2f}%)\")\n",
    "    print(f\"Negative Feedbacks: {negative} ({(negative / total) * 100:.2f}%)\")\n",
    "    print(f\"Neutral Feedbacks: {neutral} ({(neutral / total) * 100:.2f}%)\")\n",
    "    print(\"------------------------------------------\")\n",
    "\n",
    "# Main function\n",
    "def feedback_aggregator():\n",
    "    file_path = \"customer_feedback.csv\"  # Path to your feedback file\n",
    "    feedbacks = read_feedback(file_path)\n",
    "    \n",
    "    if not feedbacks:\n",
    "        return\n",
    "    \n",
    "    positive, negative, neutral = analyze_sentiment(feedbacks)\n",
    "    total = len(feedbacks)\n",
    "    generate_report(positive, negative, neutral, total)\n",
    "\n",
    "# Run the feedback aggregator\n",
    "feedback_aggregator()\n"
   ]
  },
  {
   "cell_type": "code",
   "execution_count": null,
   "id": "730f2549-ca7a-4aa9-ac0c-b5fd9d32cd0e",
   "metadata": {},
   "outputs": [],
   "source": []
  }
 ],
 "metadata": {
  "kernelspec": {
   "display_name": "Python 3 (ipykernel)",
   "language": "python",
   "name": "python3"
  },
  "language_info": {
   "codemirror_mode": {
    "name": "ipython",
    "version": 3
   },
   "file_extension": ".py",
   "mimetype": "text/x-python",
   "name": "python",
   "nbconvert_exporter": "python",
   "pygments_lexer": "ipython3",
   "version": "3.12.4"
  }
 },
 "nbformat": 4,
 "nbformat_minor": 5
}
